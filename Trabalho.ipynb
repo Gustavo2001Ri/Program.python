{
 "cells": [
  {
   "cell_type": "markdown",
   "metadata": {},
   "source": [
    "ideia =  criar algoritomo para automatizar orçamentos em geral - ar condicionado"
   ]
  },
  {
   "cell_type": "code",
   "execution_count": 2,
   "metadata": {},
   "outputs": [
    {
     "name": "stdout",
     "output_type": "stream",
     "text": [
      "Ok... nenhum acrescimo no valor, teremos uma instalação simples! na maquina samsung \n",
      "Seu ar condicionado do modelo: samsung, será cobrado o valor de instalação o total \n",
      " de: 1200Reais\n",
      "1 record inserted\n",
      "Seu ar condicionado do modelo: philco, será cobrado o valor de instalação o total \n",
      " de: 1700.0Reais, levando em consideração que foi cobrado o valor de 600 \n",
      " pela instalação e o total de: 110 por metros adicionais do cobre\n",
      "1 record inserted\n"
     ]
    }
   ],
   "source": [
    "\n",
    "quantidade = int(input('Quantos aparelhos serão instalados em sua residencia?'))\n",
    "for i in range(quantidade):\n",
    "    cliente = input('Digite seu nome: ')\n",
    "    marca = input('Qual o modelo do seu aparelho de ar condicionado: ')\n",
    "    BTU = int(input('Quantidade em BTU do aparelho citado? 8000 a 45000mil BTU'))\n",
    "    if BTU >=8000 and BTU <=12000:\n",
    "        modelo1 = int('110')\n",
    "        valor = int('600')\n",
    "    elif BTU >=15000 and BTU <=18000:\n",
    "        modelo1 = int('180')\n",
    "        valor = int('800')\n",
    "    elif BTU >=19000 and BTU <=45000:\n",
    "        modelo1 = int('240')\n",
    "        valor = int('1200')\n",
    "    else:\n",
    "        print('opção invalida!!')   \n",
    "    metros = input('O condensadora sera instalada atras da evaporadora? [S][N]').upper()\n",
    "    if metros == 'S':\n",
    "        print(f'Ok... nenhum acrescimo no valor, teremos uma instalação simples! na maquina {marca} ')\n",
    "        print(f'Seu ar condicionado do modelo: {marca}, será cobrado o valor de instalação o total \\n de: {valor}Reais')\n",
    "    elif metros == 'N':\n",
    "        qMetros = float(input('A condensadora ficará a quantos metros de distancia da evaporadora?'))\n",
    "        print(f'Seu ar condicionado do modelo: {marca}, será cobrado o valor de instalação o total \\n de: {(qMetros * modelo1) + valor}Reais, levando em consideração que foi cobrado o valor de {valor} \\n pela instalação e o total de: {modelo1} por metros adicionais do cobre')\n",
    "\n",
    "    else:\n",
    "        print('opção invalida')\n",
    "    #print(f'Seu ar condicionado do modelo: {modelo}, será cobrado o valor de instalação o total \\n de: {(qMetros * modelo1) + valorIns}Reais, levando em consideração que foi cobrado o valor de {valorIns} \\n pela instalação e o total de: {modelo1} por metros adicionais do cobre')\n",
    "    import mysql.connector\n",
    "\n",
    "    mydb = mysql.connector.connect(\n",
    "        host = 'localhost',\n",
    "        user = 'root',\n",
    "        password='',\n",
    "        database='Orcamentos'\n",
    "    )\n",
    "    mycursor = mydb.cursor()\n",
    "\n",
    "    sql = 'INSERT INTO clientes (cliente, marca, BTU, valor)VALUES (%s,%s,%s,%s)'\n",
    "    val = (cliente, marca, BTU, valor)\n",
    "    mycursor.execute(sql,val)\n",
    "    mydb.commit()\n",
    "    print(mycursor.rowcount,'record inserted')\n",
    "        \n",
    "            \n"
   ]
  },
  {
   "cell_type": "markdown",
   "metadata": {},
   "source": []
  },
  {
   "cell_type": "code",
   "execution_count": 24,
   "metadata": {},
   "outputs": [
    {
     "ename": "NameError",
     "evalue": "name 'name' is not defined",
     "output_type": "error",
     "traceback": [
      "\u001b[1;31m---------------------------------------------------------------------------\u001b[0m",
      "\u001b[1;31mNameError\u001b[0m                                 Traceback (most recent call last)",
      "\u001b[1;32m~\\AppData\\Local\\Temp\\ipykernel_6424\\2722767269.py\u001b[0m in \u001b[0;36m<module>\u001b[1;34m\u001b[0m\n\u001b[0;32m     10\u001b[0m \u001b[1;33m\u001b[0m\u001b[0m\n\u001b[0;32m     11\u001b[0m \u001b[0msql\u001b[0m \u001b[1;33m=\u001b[0m \u001b[1;34m'INSERT INTO clientes (name, marca, BTU, valor)VALUES (%s,%s,%s,%s)'\u001b[0m\u001b[1;33m\u001b[0m\u001b[1;33m\u001b[0m\u001b[0m\n\u001b[1;32m---> 12\u001b[1;33m \u001b[0mval\u001b[0m \u001b[1;33m=\u001b[0m \u001b[1;33m(\u001b[0m\u001b[0mname\u001b[0m\u001b[1;33m,\u001b[0m \u001b[0mmarca\u001b[0m\u001b[1;33m,\u001b[0m \u001b[0mBTU\u001b[0m\u001b[1;33m,\u001b[0m \u001b[0mvalor\u001b[0m\u001b[1;33m)\u001b[0m\u001b[1;33m\u001b[0m\u001b[1;33m\u001b[0m\u001b[0m\n\u001b[0m\u001b[0;32m     13\u001b[0m \u001b[0mmycursor\u001b[0m\u001b[1;33m.\u001b[0m\u001b[0mexecute\u001b[0m\u001b[1;33m(\u001b[0m\u001b[0msql\u001b[0m\u001b[1;33m,\u001b[0m\u001b[0mval\u001b[0m\u001b[1;33m)\u001b[0m\u001b[1;33m\u001b[0m\u001b[1;33m\u001b[0m\u001b[0m\n\u001b[0;32m     14\u001b[0m \u001b[0mmydb\u001b[0m\u001b[1;33m.\u001b[0m\u001b[0mcommit\u001b[0m\u001b[1;33m(\u001b[0m\u001b[1;33m)\u001b[0m\u001b[1;33m\u001b[0m\u001b[1;33m\u001b[0m\u001b[0m\n",
      "\u001b[1;31mNameError\u001b[0m: name 'name' is not defined"
     ]
    }
   ],
   "source": [
    "import mysql.connector\n",
    "\n",
    "mydb = mysql.connector.connect(\n",
    "    host = 'localhost',\n",
    "    user = 'root',\n",
    "    password='',\n",
    "    database='Orcamentos'\n",
    ")\n",
    "mycursor = mydb.cursor()\n",
    "\n",
    "sql = 'INSERT INTO clientes (name, marca, BTU, valor)VALUES (%s,%s,%s,%s)'\n",
    "val = (name, marca, BTU, valor)\n",
    "mycursor.execute(sql,val)\n",
    "mydb.commit()\n",
    "print(mycursor.rowcount,'record inserted')\n"
   ]
  }
 ],
 "metadata": {
  "kernelspec": {
   "display_name": "Python 3",
   "language": "python",
   "name": "python3"
  },
  "language_info": {
   "codemirror_mode": {
    "name": "ipython",
    "version": 3
   },
   "file_extension": ".py",
   "mimetype": "text/x-python",
   "name": "python",
   "nbconvert_exporter": "python",
   "pygments_lexer": "ipython3",
   "version": "3.7.8"
  }
 },
 "nbformat": 4,
 "nbformat_minor": 2
}
